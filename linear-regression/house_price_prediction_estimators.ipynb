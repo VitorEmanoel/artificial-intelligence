{
 "cells": [
  {
   "cell_type": "code",
   "execution_count": 4,
   "metadata": {},
   "outputs": [],
   "source": [
    "import tensorflow as tf\n",
    "import pandas as pd\n",
    "base = pd.read_csv('house-prices.csv')\n"
   ]
  },
  {
   "cell_type": "code",
   "execution_count": 6,
   "metadata": {},
   "outputs": [],
   "source": [
    "x = base.iloc[:, 5:6].values\n",
    "y = base.iloc[:, 2:3].values"
   ]
  },
  {
   "cell_type": "code",
   "execution_count": 10,
   "metadata": {},
   "outputs": [
    {
     "name": "stderr",
     "output_type": "stream",
     "text": [
      "C:\\Users\\vitor\\Anaconda3\\lib\\site-packages\\sklearn\\utils\\validation.py:595: DataConversionWarning: Data with input dtype int64 was converted to float64 by StandardScaler.\n",
      "  warnings.warn(msg, DataConversionWarning)\n",
      "C:\\Users\\vitor\\Anaconda3\\lib\\site-packages\\sklearn\\utils\\validation.py:595: DataConversionWarning: Data with input dtype int64 was converted to float64 by StandardScaler.\n",
      "  warnings.warn(msg, DataConversionWarning)\n"
     ]
    }
   ],
   "source": [
    "from sklearn.preprocessing import StandardScaler\n",
    "scaler_x = StandardScaler()\n",
    "scaler_y = StandardScaler()\n",
    "X = scaler_x.fit_transform(x)\n",
    "Y = scaler_y.fit_transform(y)"
   ]
  },
  {
   "cell_type": "code",
   "execution_count": 11,
   "metadata": {},
   "outputs": [],
   "source": [
    "colunas = [tf.feature_column.numeric_column('x')]"
   ]
  },
  {
   "cell_type": "code",
   "execution_count": null,
   "metadata": {},
   "outputs": [],
   "source": [
    "regressor = tf.estimator.LinearRegressor(feature_columns=colunas)"
   ]
  },
  {
   "cell_type": "code",
   "execution_count": 29,
   "metadata": {},
   "outputs": [],
   "source": [
    "from sklearn.model_selection import train_test_split\n",
    "x_treinamento, x_teste, y_treinamento, y_teste = train_test_split(X, Y, test_size=0.3)"
   ]
  },
  {
   "cell_type": "code",
   "execution_count": 30,
   "metadata": {},
   "outputs": [],
   "source": [
    "funcao_treinamento = tf.estimator.inputs.numpy_input_fn({'x': x_treinamento}, y_treinamento, \n",
    "                                                        batch_size=32, \n",
    "                                                        num_epochs=None, \n",
    "                                                        shuffle=True)"
   ]
  },
  {
   "cell_type": "code",
   "execution_count": 31,
   "metadata": {},
   "outputs": [],
   "source": [
    "funcao_teste = tf.estimator.inputs.numpy_input_fn({'x': x_teste}, y_teste, batch_size=32, num_epochs=None, shuffle=False)"
   ]
  },
  {
   "cell_type": "raw",
   "metadata": {},
   "source": []
  },
  {
   "cell_type": "code",
   "execution_count": 32,
   "metadata": {},
   "outputs": [
    {
     "name": "stdout",
     "output_type": "stream",
     "text": [
      "INFO:tensorflow:Calling model_fn.\n",
      "INFO:tensorflow:Done calling model_fn.\n",
      "INFO:tensorflow:Create CheckpointSaverHook.\n",
      "INFO:tensorflow:Graph was finalized.\n",
      "WARNING:tensorflow:From C:\\Users\\vitor\\Anaconda3\\lib\\site-packages\\tensorflow\\python\\training\\saver.py:1266: checkpoint_exists (from tensorflow.python.training.checkpoint_management) is deprecated and will be removed in a future version.\n",
      "Instructions for updating:\n",
      "Use standard file APIs to check for files with this prefix.\n",
      "INFO:tensorflow:Restoring parameters from C:\\Users\\vitor\\AppData\\Local\\Temp\\tmp7d_vn0v5\\model.ckpt-10000\n",
      "WARNING:tensorflow:From C:\\Users\\vitor\\Anaconda3\\lib\\site-packages\\tensorflow\\python\\training\\saver.py:1070: get_checkpoint_mtimes (from tensorflow.python.training.checkpoint_management) is deprecated and will be removed in a future version.\n",
      "Instructions for updating:\n",
      "Use standard file utilities to get mtimes.\n",
      "INFO:tensorflow:Running local_init_op.\n",
      "INFO:tensorflow:Done running local_init_op.\n",
      "INFO:tensorflow:Saving checkpoints for 10000 into C:\\Users\\vitor\\AppData\\Local\\Temp\\tmp7d_vn0v5\\model.ckpt.\n",
      "INFO:tensorflow:loss = 94010.09, step = 10001\n",
      "INFO:tensorflow:global_step/sec: 454.802\n",
      "INFO:tensorflow:loss = 101183.52, step = 10101 (0.221 sec)\n",
      "INFO:tensorflow:global_step/sec: 813.48\n",
      "INFO:tensorflow:loss = 110471.945, step = 10201 (0.123 sec)\n",
      "INFO:tensorflow:global_step/sec: 758.011\n",
      "INFO:tensorflow:loss = 85943.625, step = 10301 (0.132 sec)\n",
      "INFO:tensorflow:global_step/sec: 794.087\n",
      "INFO:tensorflow:loss = 64242.684, step = 10401 (0.126 sec)\n",
      "INFO:tensorflow:global_step/sec: 794.122\n",
      "INFO:tensorflow:loss = 127110.414, step = 10501 (0.126 sec)\n",
      "INFO:tensorflow:global_step/sec: 833.811\n",
      "INFO:tensorflow:loss = 117559.664, step = 10601 (0.120 sec)\n",
      "INFO:tensorflow:global_step/sec: 714.689\n",
      "INFO:tensorflow:loss = 73247.72, step = 10701 (0.140 sec)\n",
      "INFO:tensorflow:global_step/sec: 781.695\n",
      "INFO:tensorflow:loss = 337981.34, step = 10801 (0.128 sec)\n",
      "INFO:tensorflow:global_step/sec: 826.918\n",
      "INFO:tensorflow:loss = 189080.36, step = 10901 (0.124 sec)\n",
      "INFO:tensorflow:global_step/sec: 543.788\n",
      "INFO:tensorflow:loss = 98470.09, step = 11001 (0.182 sec)\n",
      "INFO:tensorflow:global_step/sec: 592.056\n",
      "INFO:tensorflow:loss = 88615.62, step = 11101 (0.168 sec)\n",
      "INFO:tensorflow:global_step/sec: 694.842\n",
      "INFO:tensorflow:loss = 78547.52, step = 11201 (0.145 sec)\n",
      "INFO:tensorflow:global_step/sec: 870.068\n",
      "INFO:tensorflow:loss = 103813.67, step = 11301 (0.114 sec)\n",
      "INFO:tensorflow:global_step/sec: 680.66\n",
      "INFO:tensorflow:loss = 144903.47, step = 11401 (0.147 sec)\n",
      "INFO:tensorflow:global_step/sec: 775.637\n",
      "INFO:tensorflow:loss = 53864.773, step = 11501 (0.130 sec)\n",
      "INFO:tensorflow:global_step/sec: 787.851\n",
      "INFO:tensorflow:loss = 91922.805, step = 11601 (0.126 sec)\n",
      "INFO:tensorflow:global_step/sec: 806.915\n",
      "INFO:tensorflow:loss = 81101.125, step = 11701 (0.124 sec)\n",
      "INFO:tensorflow:global_step/sec: 800.456\n",
      "INFO:tensorflow:loss = 46454.81, step = 11801 (0.125 sec)\n",
      "INFO:tensorflow:global_step/sec: 794.104\n",
      "INFO:tensorflow:loss = 57617.62, step = 11901 (0.126 sec)\n",
      "INFO:tensorflow:global_step/sec: 588.57\n",
      "INFO:tensorflow:loss = 122225.445, step = 12001 (0.170 sec)\n",
      "INFO:tensorflow:global_step/sec: 602.747\n",
      "INFO:tensorflow:loss = 80406.84, step = 12101 (0.166 sec)\n",
      "INFO:tensorflow:global_step/sec: 775.651\n",
      "INFO:tensorflow:loss = 61474.703, step = 12201 (0.129 sec)\n",
      "INFO:tensorflow:global_step/sec: 820.092\n",
      "INFO:tensorflow:loss = 97459.32, step = 12301 (0.122 sec)\n",
      "INFO:tensorflow:global_step/sec: 775.669\n",
      "INFO:tensorflow:loss = 90241.664, step = 12401 (0.129 sec)\n",
      "INFO:tensorflow:global_step/sec: 794.119\n",
      "INFO:tensorflow:loss = 89859.016, step = 12501 (0.126 sec)\n",
      "INFO:tensorflow:global_step/sec: 787.845\n",
      "INFO:tensorflow:loss = 78398.06, step = 12601 (0.127 sec)\n",
      "INFO:tensorflow:global_step/sec: 685.326\n",
      "INFO:tensorflow:loss = 76409.266, step = 12701 (0.146 sec)\n",
      "INFO:tensorflow:global_step/sec: 794.107\n",
      "INFO:tensorflow:loss = 116005.484, step = 12801 (0.126 sec)\n",
      "INFO:tensorflow:global_step/sec: 769.671\n",
      "INFO:tensorflow:loss = 71345.61, step = 12901 (0.130 sec)\n",
      "INFO:tensorflow:global_step/sec: 714.695\n",
      "INFO:tensorflow:loss = 120107.19, step = 13001 (0.140 sec)\n",
      "INFO:tensorflow:global_step/sec: 885.392\n",
      "INFO:tensorflow:loss = 84311.58, step = 13101 (0.113 sec)\n",
      "INFO:tensorflow:global_step/sec: 763.846\n",
      "INFO:tensorflow:loss = 56203.523, step = 13201 (0.132 sec)\n",
      "INFO:tensorflow:global_step/sec: 787.837\n",
      "INFO:tensorflow:loss = 123425.984, step = 13301 (0.126 sec)\n",
      "INFO:tensorflow:global_step/sec: 769.682\n",
      "INFO:tensorflow:loss = 73034.89, step = 13401 (0.130 sec)\n",
      "INFO:tensorflow:global_step/sec: 833.81\n",
      "INFO:tensorflow:loss = 118891.59, step = 13501 (0.120 sec)\n",
      "INFO:tensorflow:global_step/sec: 694.842\n",
      "INFO:tensorflow:loss = 58621.387, step = 13601 (0.145 sec)\n",
      "INFO:tensorflow:global_step/sec: 592.04\n",
      "INFO:tensorflow:loss = 48870.418, step = 13701 (0.168 sec)\n",
      "INFO:tensorflow:global_step/sec: 694.861\n",
      "INFO:tensorflow:loss = 79269.75, step = 13801 (0.144 sec)\n",
      "INFO:tensorflow:global_step/sec: 752.304\n",
      "INFO:tensorflow:loss = 63838.36, step = 13901 (0.133 sec)\n",
      "INFO:tensorflow:global_step/sec: 758.013\n",
      "INFO:tensorflow:loss = 63851.906, step = 14001 (0.132 sec)\n",
      "INFO:tensorflow:global_step/sec: 877.684\n",
      "INFO:tensorflow:loss = 98422.125, step = 14101 (0.114 sec)\n",
      "INFO:tensorflow:global_step/sec: 826.928\n",
      "INFO:tensorflow:loss = 62237.625, step = 14201 (0.121 sec)\n",
      "INFO:tensorflow:global_step/sec: 769.671\n",
      "INFO:tensorflow:loss = 132610.56, step = 14301 (0.130 sec)\n",
      "INFO:tensorflow:global_step/sec: 752.31\n",
      "INFO:tensorflow:loss = 88304.85, step = 14401 (0.133 sec)\n",
      "INFO:tensorflow:global_step/sec: 730.327\n",
      "INFO:tensorflow:loss = 71619.35, step = 14501 (0.136 sec)\n",
      "INFO:tensorflow:global_step/sec: 676.079\n",
      "INFO:tensorflow:loss = 142848.02, step = 14601 (0.149 sec)\n",
      "INFO:tensorflow:global_step/sec: 870.058\n",
      "INFO:tensorflow:loss = 141382.83, step = 14701 (0.115 sec)\n",
      "INFO:tensorflow:global_step/sec: 800.458\n",
      "INFO:tensorflow:loss = 98073.92, step = 14801 (0.126 sec)\n",
      "INFO:tensorflow:global_step/sec: 763.78\n",
      "INFO:tensorflow:loss = 91802.69, step = 14901 (0.130 sec)\n",
      "INFO:tensorflow:global_step/sec: 800.472\n",
      "INFO:tensorflow:loss = 95405.02, step = 15001 (0.124 sec)\n",
      "INFO:tensorflow:global_step/sec: 769.668\n",
      "INFO:tensorflow:loss = 79547.55, step = 15101 (0.131 sec)\n",
      "INFO:tensorflow:global_step/sec: 826.912\n",
      "INFO:tensorflow:loss = 73909.88, step = 15201 (0.121 sec)\n",
      "INFO:tensorflow:global_step/sec: 571.751\n",
      "INFO:tensorflow:loss = 63019.97, step = 15301 (0.176 sec)\n",
      "INFO:tensorflow:global_step/sec: 588.583\n",
      "INFO:tensorflow:loss = 107921.17, step = 15401 (0.171 sec)\n",
      "INFO:tensorflow:global_step/sec: 730.342\n",
      "INFO:tensorflow:loss = 109051.08, step = 15501 (0.135 sec)\n",
      "INFO:tensorflow:global_step/sec: 735.71\n",
      "INFO:tensorflow:loss = 63716.53, step = 15601 (0.136 sec)\n",
      "INFO:tensorflow:global_step/sec: 781.7\n",
      "INFO:tensorflow:loss = 92650.11, step = 15701 (0.130 sec)\n",
      "INFO:tensorflow:global_step/sec: 610.104\n",
      "INFO:tensorflow:loss = 67479.57, step = 15801 (0.165 sec)\n",
      "INFO:tensorflow:global_step/sec: 595.58\n",
      "INFO:tensorflow:loss = 109625.67, step = 15901 (0.165 sec)\n",
      "INFO:tensorflow:global_step/sec: 752.31\n",
      "INFO:tensorflow:loss = 103058.0, step = 16001 (0.133 sec)\n",
      "INFO:tensorflow:global_step/sec: 606.407\n",
      "INFO:tensorflow:loss = 84333.5, step = 16101 (0.165 sec)\n",
      "INFO:tensorflow:global_step/sec: 685.317\n",
      "INFO:tensorflow:loss = 83339.65, step = 16201 (0.146 sec)\n",
      "INFO:tensorflow:global_step/sec: 625.36\n",
      "INFO:tensorflow:loss = 63939.312, step = 16301 (0.162 sec)\n",
      "INFO:tensorflow:global_step/sec: 719.835\n",
      "INFO:tensorflow:loss = 62598.43, step = 16401 (0.138 sec)\n",
      "INFO:tensorflow:global_step/sec: 621.474\n",
      "INFO:tensorflow:loss = 73044.33, step = 16501 (0.163 sec)\n",
      "INFO:tensorflow:global_step/sec: 735.714\n",
      "INFO:tensorflow:loss = 110827.29, step = 16601 (0.133 sec)\n",
      "INFO:tensorflow:global_step/sec: 662.624\n",
      "INFO:tensorflow:loss = 86781.64, step = 16701 (0.153 sec)\n",
      "INFO:tensorflow:global_step/sec: 662.637\n",
      "INFO:tensorflow:loss = 87263.85, step = 16801 (0.150 sec)\n",
      "INFO:tensorflow:global_step/sec: 649.72\n",
      "INFO:tensorflow:loss = 93064.984, step = 16901 (0.153 sec)\n",
      "INFO:tensorflow:global_step/sec: 645.534\n",
      "INFO:tensorflow:loss = 85121.66, step = 17001 (0.155 sec)\n",
      "INFO:tensorflow:global_step/sec: 662.633\n",
      "INFO:tensorflow:loss = 124345.31, step = 17101 (0.152 sec)\n",
      "INFO:tensorflow:global_step/sec: 719.83\n"
     ]
    },
    {
     "name": "stdout",
     "output_type": "stream",
     "text": [
      "INFO:tensorflow:loss = 70241.21, step = 17201 (0.140 sec)\n",
      "INFO:tensorflow:global_step/sec: 595.579\n",
      "INFO:tensorflow:loss = 84742.59, step = 17301 (0.168 sec)\n",
      "INFO:tensorflow:global_step/sec: 714.699\n",
      "INFO:tensorflow:loss = 83279.2, step = 17401 (0.138 sec)\n",
      "INFO:tensorflow:global_step/sec: 781.691\n",
      "INFO:tensorflow:loss = 93194.24, step = 17501 (0.129 sec)\n",
      "INFO:tensorflow:global_step/sec: 680.654\n",
      "INFO:tensorflow:loss = 69068.03, step = 17601 (0.148 sec)\n",
      "INFO:tensorflow:global_step/sec: 719.847\n",
      "INFO:tensorflow:loss = 97939.695, step = 17701 (0.137 sec)\n",
      "INFO:tensorflow:global_step/sec: 741.153\n",
      "INFO:tensorflow:loss = 97932.44, step = 17801 (0.136 sec)\n",
      "INFO:tensorflow:global_step/sec: 602.756\n",
      "INFO:tensorflow:loss = 80396.92, step = 17901 (0.166 sec)\n",
      "INFO:tensorflow:global_step/sec: 725.056\n",
      "INFO:tensorflow:loss = 221820.25, step = 18001 (0.137 sec)\n",
      "INFO:tensorflow:global_step/sec: 617.626\n",
      "INFO:tensorflow:loss = 123339.195, step = 18101 (0.163 sec)\n",
      "INFO:tensorflow:global_step/sec: 704.643\n",
      "INFO:tensorflow:loss = 134251.97, step = 18201 (0.141 sec)\n",
      "INFO:tensorflow:global_step/sec: 621.466\n",
      "INFO:tensorflow:loss = 78224.33, step = 18301 (0.162 sec)\n",
      "INFO:tensorflow:global_step/sec: 775.647\n",
      "INFO:tensorflow:loss = 73796.73, step = 18401 (0.128 sec)\n",
      "INFO:tensorflow:global_step/sec: 633.273\n",
      "INFO:tensorflow:loss = 60753.836, step = 18501 (0.158 sec)\n",
      "INFO:tensorflow:global_step/sec: 694.84\n",
      "INFO:tensorflow:loss = 61546.902, step = 18601 (0.144 sec)\n",
      "INFO:tensorflow:global_step/sec: 649.723\n",
      "INFO:tensorflow:loss = 95998.8, step = 18701 (0.155 sec)\n",
      "INFO:tensorflow:global_step/sec: 752.306\n",
      "INFO:tensorflow:loss = 69049.59, step = 18801 (0.131 sec)\n",
      "INFO:tensorflow:global_step/sec: 629.291\n",
      "INFO:tensorflow:loss = 70526.49, step = 18901 (0.161 sec)\n",
      "INFO:tensorflow:global_step/sec: 680.666\n",
      "INFO:tensorflow:loss = 116174.34, step = 19001 (0.147 sec)\n",
      "INFO:tensorflow:global_step/sec: 633.271\n",
      "INFO:tensorflow:loss = 55808.195, step = 19101 (0.157 sec)\n",
      "INFO:tensorflow:global_step/sec: 374.746\n",
      "INFO:tensorflow:loss = 75224.734, step = 19201 (0.268 sec)\n",
      "INFO:tensorflow:global_step/sec: 431.258\n",
      "INFO:tensorflow:loss = 97878.45, step = 19301 (0.237 sec)\n",
      "INFO:tensorflow:global_step/sec: 413.268\n",
      "INFO:tensorflow:loss = 121677.66, step = 19401 (0.242 sec)\n",
      "INFO:tensorflow:global_step/sec: 368.638\n",
      "INFO:tensorflow:loss = 58838.285, step = 19501 (0.270 sec)\n",
      "INFO:tensorflow:global_step/sec: 399.578\n",
      "INFO:tensorflow:loss = 80549.99, step = 19601 (0.251 sec)\n",
      "INFO:tensorflow:global_step/sec: 405.024\n",
      "INFO:tensorflow:loss = 78499.42, step = 19701 (0.242 sec)\n",
      "INFO:tensorflow:global_step/sec: 617.824\n",
      "INFO:tensorflow:loss = 95918.586, step = 19801 (0.162 sec)\n",
      "INFO:tensorflow:global_step/sec: 521.129\n",
      "INFO:tensorflow:loss = 97054.9, step = 19901 (0.193 sec)\n",
      "INFO:tensorflow:Saving checkpoints for 20000 into C:\\Users\\vitor\\AppData\\Local\\Temp\\tmp7d_vn0v5\\model.ckpt.\n",
      "INFO:tensorflow:Loss for final step: 71785.89.\n"
     ]
    },
    {
     "data": {
      "text/plain": [
       "<tensorflow_estimator.python.estimator.canned.linear.LinearRegressor at 0x1ce6797cd68>"
      ]
     },
     "execution_count": 32,
     "metadata": {},
     "output_type": "execute_result"
    }
   ],
   "source": [
    "regressor.train(input_fn=funcao_treinamento, steps=10000)"
   ]
  },
  {
   "cell_type": "code",
   "execution_count": 34,
   "metadata": {},
   "outputs": [
    {
     "name": "stdout",
     "output_type": "stream",
     "text": [
      "INFO:tensorflow:Calling model_fn.\n",
      "INFO:tensorflow:Done calling model_fn.\n",
      "INFO:tensorflow:Starting evaluation at 2019-04-04T01:47:19Z\n",
      "INFO:tensorflow:Graph was finalized.\n",
      "INFO:tensorflow:Restoring parameters from C:\\Users\\vitor\\AppData\\Local\\Temp\\tmp7d_vn0v5\\model.ckpt-20000\n",
      "INFO:tensorflow:Running local_init_op.\n",
      "INFO:tensorflow:Done running local_init_op.\n",
      "INFO:tensorflow:Evaluation [1000/10000]\n",
      "INFO:tensorflow:Evaluation [2000/10000]\n",
      "INFO:tensorflow:Evaluation [3000/10000]\n",
      "INFO:tensorflow:Evaluation [4000/10000]\n",
      "INFO:tensorflow:Evaluation [5000/10000]\n",
      "INFO:tensorflow:Evaluation [6000/10000]\n",
      "INFO:tensorflow:Evaluation [7000/10000]\n",
      "INFO:tensorflow:Evaluation [8000/10000]\n",
      "INFO:tensorflow:Evaluation [9000/10000]\n",
      "INFO:tensorflow:Evaluation [10000/10000]\n",
      "INFO:tensorflow:Finished evaluation at 2019-04-04-01:47:32\n",
      "INFO:tensorflow:Saving dict for global step 20000: average_loss = 2814.402, global_step = 20000, label/mean = 0.00030683225, loss = 90060.87, prediction/mean = 38.252968\n",
      "INFO:tensorflow:Saving 'checkpoint_path' summary for global step 20000: C:\\Users\\vitor\\AppData\\Local\\Temp\\tmp7d_vn0v5\\model.ckpt-20000\n"
     ]
    }
   ],
   "source": [
    "metricas_treinamento = regressor.evaluate(input_fn=funcao_treinamento, steps=10000)"
   ]
  },
  {
   "cell_type": "code",
   "execution_count": 35,
   "metadata": {},
   "outputs": [
    {
     "name": "stdout",
     "output_type": "stream",
     "text": [
      "INFO:tensorflow:Calling model_fn.\n",
      "INFO:tensorflow:Done calling model_fn.\n",
      "INFO:tensorflow:Starting evaluation at 2019-04-04T01:49:05Z\n",
      "INFO:tensorflow:Graph was finalized.\n",
      "INFO:tensorflow:Restoring parameters from C:\\Users\\vitor\\AppData\\Local\\Temp\\tmp7d_vn0v5\\model.ckpt-20000\n",
      "INFO:tensorflow:Running local_init_op.\n",
      "INFO:tensorflow:Done running local_init_op.\n",
      "INFO:tensorflow:Evaluation [1000/10000]\n",
      "INFO:tensorflow:Evaluation [2000/10000]\n",
      "INFO:tensorflow:Evaluation [3000/10000]\n",
      "INFO:tensorflow:Evaluation [4000/10000]\n",
      "INFO:tensorflow:Evaluation [5000/10000]\n",
      "INFO:tensorflow:Evaluation [6000/10000]\n",
      "INFO:tensorflow:Evaluation [7000/10000]\n",
      "INFO:tensorflow:Evaluation [8000/10000]\n",
      "INFO:tensorflow:Evaluation [9000/10000]\n",
      "INFO:tensorflow:Evaluation [10000/10000]\n",
      "INFO:tensorflow:Finished evaluation at 2019-04-04-01:49:16\n",
      "INFO:tensorflow:Saving dict for global step 20000: average_loss = 2794.8254, global_step = 20000, label/mean = -0.00029366827, loss = 89434.414, prediction/mean = 38.44504\n",
      "INFO:tensorflow:Saving 'checkpoint_path' summary for global step 20000: C:\\Users\\vitor\\AppData\\Local\\Temp\\tmp7d_vn0v5\\model.ckpt-20000\n"
     ]
    }
   ],
   "source": [
    "metricas_teste = regressor.evaluate(input_fn=funcao_teste, steps=10000)"
   ]
  },
  {
   "cell_type": "code",
   "execution_count": 37,
   "metadata": {},
   "outputs": [
    {
     "data": {
      "text/plain": [
       "{'average_loss': 2814.402,\n",
       " 'label/mean': 0.00030683225,\n",
       " 'loss': 90060.87,\n",
       " 'prediction/mean': 38.252968,\n",
       " 'global_step': 20000}"
      ]
     },
     "execution_count": 37,
     "metadata": {},
     "output_type": "execute_result"
    }
   ],
   "source": [
    "metricas_treinamento"
   ]
  },
  {
   "cell_type": "code",
   "execution_count": 38,
   "metadata": {},
   "outputs": [
    {
     "data": {
      "text/plain": [
       "{'average_loss': 2794.8254,\n",
       " 'label/mean': -0.00029366827,\n",
       " 'loss': 89434.414,\n",
       " 'prediction/mean': 38.44504,\n",
       " 'global_step': 20000}"
      ]
     },
     "execution_count": 38,
     "metadata": {},
     "output_type": "execute_result"
    }
   ],
   "source": [
    "metricas_teste"
   ]
  },
  {
   "cell_type": "code",
   "execution_count": 40,
   "metadata": {},
   "outputs": [],
   "source": [
    "import numpy as np"
   ]
  },
  {
   "cell_type": "code",
   "execution_count": 44,
   "metadata": {},
   "outputs": [
    {
     "name": "stderr",
     "output_type": "stream",
     "text": [
      "C:\\Users\\vitor\\Anaconda3\\lib\\site-packages\\sklearn\\utils\\validation.py:595: DataConversionWarning: Data with input dtype int32 was converted to float64 by StandardScaler.\n",
      "  warnings.warn(msg, DataConversionWarning)\n"
     ]
    },
    {
     "data": {
      "text/plain": [
       "array([[-1.39358923],\n",
       "       [-1.28470655],\n",
       "       [-1.17582386]])"
      ]
     },
     "execution_count": 44,
     "metadata": {},
     "output_type": "execute_result"
    }
   ],
   "source": [
    "novas_casas = np.array([[800], [900], [1000]])\n",
    "novas_casas = scaler_x.transform(novas_casas)\n",
    "novas_casas"
   ]
  },
  {
   "cell_type": "code",
   "execution_count": 45,
   "metadata": {},
   "outputs": [],
   "source": [
    "funcao_previsao = tf.estimator.inputs.numpy_input_fn({'x': novas_casas}, shuffle=False)"
   ]
  },
  {
   "cell_type": "code",
   "execution_count": 52,
   "metadata": {},
   "outputs": [
    {
     "data": {
      "text/plain": [
       "<generator object EstimatorV2.predict at 0x000001CE6DA91048>"
      ]
     },
     "execution_count": 52,
     "metadata": {},
     "output_type": "execute_result"
    }
   ],
   "source": [
    "previsoes = regressor.predict(funcao_previsao)\n",
    "previsoes"
   ]
  },
  {
   "cell_type": "code",
   "execution_count": 53,
   "metadata": {},
   "outputs": [
    {
     "name": "stdout",
     "output_type": "stream",
     "text": [
      "INFO:tensorflow:Calling model_fn.\n",
      "INFO:tensorflow:Done calling model_fn.\n",
      "INFO:tensorflow:Graph was finalized.\n",
      "INFO:tensorflow:Restoring parameters from C:\\Users\\vitor\\AppData\\Local\\Temp\\tmp7d_vn0v5\\model.ckpt-20000\n",
      "INFO:tensorflow:Running local_init_op.\n",
      "INFO:tensorflow:Done running local_init_op.\n"
     ]
    },
    {
     "data": {
      "text/plain": [
       "[{'predictions': array([-13.682308], dtype=float32)},\n",
       " {'predictions': array([-9.620323], dtype=float32)},\n",
       " {'predictions': array([-5.5583305], dtype=float32)}]"
      ]
     },
     "execution_count": 53,
     "metadata": {},
     "output_type": "execute_result"
    }
   ],
   "source": [
    "list(previsoes)"
   ]
  },
  {
   "cell_type": "code",
   "execution_count": 57,
   "metadata": {},
   "outputs": [
    {
     "name": "stdout",
     "output_type": "stream",
     "text": [
      "INFO:tensorflow:Calling model_fn.\n",
      "INFO:tensorflow:Done calling model_fn.\n",
      "INFO:tensorflow:Graph was finalized.\n",
      "INFO:tensorflow:Restoring parameters from C:\\Users\\vitor\\AppData\\Local\\Temp\\tmp7d_vn0v5\\model.ckpt-20000\n",
      "INFO:tensorflow:Running local_init_op.\n",
      "INFO:tensorflow:Done running local_init_op.\n",
      "[-10486.201]\n",
      "[-6755.594]\n",
      "[-3024.9802]\n"
     ]
    }
   ],
   "source": [
    "for p in regressor.predict(input_fn=funcao_previsao):\n",
    "    #rint(p['predictions'])\n",
    "    print(scaler_x.inverse_transform(p['predictions']))"
   ]
  },
  {
   "cell_type": "code",
   "execution_count": null,
   "metadata": {},
   "outputs": [],
   "source": []
  },
  {
   "cell_type": "code",
   "execution_count": null,
   "metadata": {},
   "outputs": [],
   "source": []
  }
 ],
 "metadata": {
  "kernelspec": {
   "display_name": "Python 3",
   "language": "python",
   "name": "python3"
  },
  "language_info": {
   "codemirror_mode": {
    "name": "ipython",
    "version": 3
   },
   "file_extension": ".py",
   "mimetype": "text/x-python",
   "name": "python",
   "nbconvert_exporter": "python",
   "pygments_lexer": "ipython3",
   "version": "3.7.1"
  }
 },
 "nbformat": 4,
 "nbformat_minor": 2
}
